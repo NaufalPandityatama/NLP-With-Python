{
 "cells": [
  {
   "cell_type": "code",
   "execution_count": 1,
   "metadata": {},
   "outputs": [],
   "source": [
    "import spacy"
   ]
  },
  {
   "cell_type": "code",
   "execution_count": 2,
   "metadata": {},
   "outputs": [],
   "source": [
    "nlp = spacy.load('en_core_web_sm')"
   ]
  },
  {
   "cell_type": "code",
   "execution_count": 3,
   "metadata": {},
   "outputs": [
    {
     "name": "stdout",
     "output_type": "stream",
     "text": [
      "{'once', 'some', 'can', 'never', 'the', 'made', 'twelve', 'but', 'former', 'someone', 'this', 'twenty', 'whereby', 'will', 'yet', 'five', 'sometime', 'still', 'part', 'onto', 'except', 'whereas', 'almost', 'only', 'have', 'behind', 'all', 'within', 'our', 'however', 'seeming', 'where', 'least', 'seemed', 'side', 'towards', 'since', 'himself', 'him', 'six', 'neither', 'always', 'due', 'therefore', 'already', 'herein', 'above', 'may', 'mine', 'noone', 'or', 'after', 'thru', 'ever', 'each', 'then', 'these', 'whether', 'fifteen', 'move', 'none', 'quite', 'i', 'make', 'off', 'yours', 'mostly', 'indeed', 'too', 'when', 'fifty', 'various', 'not', 'would', 'beforehand', 'another', 'it', 'serious', 'put', 'several', 'whereupon', 'also', 'became', 'own', 'to', 'everything', 'otherwise', 'against', 'done', 'themselves', 'seem', 'without', 'am', 'name', 'no', 'could', 'everywhere', 'why', 'further', 'please', 'although', 'three', 'any', 'until', 'with', 'hers', 'your', 'therein', 'used', 'nevertheless', 'were', 'thereby', 'one', 'per', 'using', 'most', 'down', 'under', 'beside', 'somehow', 'seems', 'something', 'yourself', 'ours', 'both', 'should', 'keep', 'we', 'up', 'hereby', 'get', 'below', 'either', 'even', 'other', 'rather', 'sometimes', 'few', 'call', 'eight', 'had', 'into', 'such', 'about', 'hereafter', 'my', 'nine', 'whereafter', 'really', 'again', 'perhaps', 'nowhere', 'among', 'which', 'less', 'by', 'of', 'show', 'wherever', 'while', 'moreover', 'sixty', 'whence', 'are', 'latter', 'amongst', 'whenever', 'was', 'four', 'they', 'a', 'bottom', 'yourselves', 'though', 'afterwards', 'across', 'give', 'how', 'whose', 'through', 'hence', 'become', 'last', 'back', 'because', 'just', 'if', 'in', 'myself', 'now', 'same', 'becomes', 'cannot', 'regarding', 'did', 'nobody', 'around', 'during', 'besides', 'must', 'top', 'her', 'throughout', 'somewhere', 'us', 'via', 'well', 'from', 'take', 'every', 'forty', 'anyone', 'doing', 'his', 'over', 'thence', 'say', 'whom', 'anywhere', 'do', 'me', 'upon', 're', 'whoever', 'hereupon', 'formerly', 'third', 'does', 'go', 'been', 'latterly', 'out', 'for', 'toward', 'amount', 'often', 'that', 'ca', 'thereupon', 'as', 'you', 'between', 'see', 'ourselves', 'whole', 'others', 'be', 'he', 'and', 'hundred', 'meanwhile', 'its', 'alone', 'empty', 'first', 'she', 'anything', 'eleven', 'nor', 'ten', 'unless', 'what', 'herself', 'nothing', 'is', 'an', 'being', 'anyway', 'enough', 'more', 'much', 'namely', 'their', 'before', 'on', 'those', 'next', 'thus', 'full', 'has', 'itself', 'so', 'together', 'two', 'whatever', 'many', 'very', 'else', 'at', 'might', 'thereafter', 'here', 'who', 'along', 'there', 'everyone', 'anyhow', 'whither', 'wherein', 'them', 'elsewhere', 'beyond', 'becoming', 'front', 'than'}\n"
     ]
    }
   ],
   "source": [
    "print(nlp.Defaults.stop_words)"
   ]
  },
  {
   "cell_type": "code",
   "execution_count": 4,
   "metadata": {},
   "outputs": [
    {
     "data": {
      "text/plain": [
       "305"
      ]
     },
     "execution_count": 4,
     "metadata": {},
     "output_type": "execute_result"
    }
   ],
   "source": [
    "len(nlp.Defaults.stop_words)"
   ]
  },
  {
   "cell_type": "code",
   "execution_count": 5,
   "metadata": {},
   "outputs": [
    {
     "data": {
      "text/plain": [
       "<spacy.lexeme.Lexeme at 0x14525991f48>"
      ]
     },
     "execution_count": 5,
     "metadata": {},
     "output_type": "execute_result"
    }
   ],
   "source": [
    "## Checking if a word is a stop word (in the dataset)\n",
    "nlp.vocab['is']"
   ]
  },
  {
   "cell_type": "code",
   "execution_count": 6,
   "metadata": {},
   "outputs": [
    {
     "data": {
      "text/plain": [
       "True"
      ]
     },
     "execution_count": 6,
     "metadata": {},
     "output_type": "execute_result"
    }
   ],
   "source": [
    "nlp.vocab['is'].is_stop"
   ]
  },
  {
   "cell_type": "code",
   "execution_count": 7,
   "metadata": {},
   "outputs": [
    {
     "data": {
      "text/plain": [
       "False"
      ]
     },
     "execution_count": 7,
     "metadata": {},
     "output_type": "execute_result"
    }
   ],
   "source": [
    "nlp.vocab['mystery'].is_stop"
   ]
  },
  {
   "cell_type": "code",
   "execution_count": 8,
   "metadata": {},
   "outputs": [
    {
     "data": {
      "text/plain": [
       "306"
      ]
     },
     "execution_count": 8,
     "metadata": {},
     "output_type": "execute_result"
    }
   ],
   "source": [
    "# Adding a word to the stop word dataset\n",
    "nlp.Defaults.stop_words.add('btw')\n",
    "nlp.vocab['btw'].is_stop = True\n",
    "\n",
    "len(nlp.Defaults.stop_words)"
   ]
  },
  {
   "cell_type": "code",
   "execution_count": 9,
   "metadata": {},
   "outputs": [
    {
     "data": {
      "text/plain": [
       "True"
      ]
     },
     "execution_count": 9,
     "metadata": {},
     "output_type": "execute_result"
    }
   ],
   "source": [
    "nlp.vocab['btw'].is_stop"
   ]
  },
  {
   "cell_type": "code",
   "execution_count": 10,
   "metadata": {},
   "outputs": [
    {
     "data": {
      "text/plain": [
       "305"
      ]
     },
     "execution_count": 10,
     "metadata": {},
     "output_type": "execute_result"
    }
   ],
   "source": [
    "# Remove a word to the stop word dataset\n",
    "nlp.Defaults.stop_words.remove('beyond')\n",
    "nlp.vocab['beyond'].is_stop = False\n",
    "\n",
    "len(nlp.Defaults.stop_words)"
   ]
  },
  {
   "cell_type": "code",
   "execution_count": 11,
   "metadata": {},
   "outputs": [
    {
     "data": {
      "text/plain": [
       "False"
      ]
     },
     "execution_count": 11,
     "metadata": {},
     "output_type": "execute_result"
    }
   ],
   "source": [
    "nlp.vocab['beyond'].is_stop"
   ]
  }
 ],
 "metadata": {
  "kernelspec": {
   "display_name": "nlp_course",
   "language": "python",
   "name": "python3"
  },
  "language_info": {
   "codemirror_mode": {
    "name": "ipython",
    "version": 3
   },
   "file_extension": ".py",
   "mimetype": "text/x-python",
   "name": "python",
   "nbconvert_exporter": "python",
   "pygments_lexer": "ipython3",
   "version": "3.7.16"
  }
 },
 "nbformat": 4,
 "nbformat_minor": 2
}
