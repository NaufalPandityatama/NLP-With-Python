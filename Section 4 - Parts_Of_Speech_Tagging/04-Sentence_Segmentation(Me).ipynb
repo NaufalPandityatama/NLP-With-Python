{
 "cells": [
  {
   "cell_type": "code",
   "execution_count": 1,
   "metadata": {},
   "outputs": [],
   "source": [
    "import spacy\n",
    "nlp = spacy.load('en_core_web_sm')"
   ]
  },
  {
   "cell_type": "code",
   "execution_count": 2,
   "metadata": {},
   "outputs": [
    {
     "name": "stdout",
     "output_type": "stream",
     "text": [
      "This is the first sentence.\n",
      "This is another sentence.\n",
      "This is the last sentence\n"
     ]
    }
   ],
   "source": [
    "doc = nlp(u'This is the first sentence. This is another sentence. This is the last sentence')\n",
    "\n",
    "# doc.sents generate the sentences, instead of saving it into the memory\n",
    "for sent in doc.sents:\n",
    "    print(sent)"
   ]
  },
  {
   "cell_type": "code",
   "execution_count": 4,
   "metadata": {},
   "outputs": [
    {
     "data": {
      "text/plain": [
       "This"
      ]
     },
     "execution_count": 4,
     "metadata": {},
     "output_type": "execute_result"
    }
   ],
   "source": [
    "doc[0]"
   ]
  },
  {
   "cell_type": "code",
   "execution_count": 6,
   "metadata": {},
   "outputs": [
    {
     "data": {
      "text/plain": [
       "'\"Management is doing the right things; leadership is doing the right things.\" - Peter Drucker'"
      ]
     },
     "execution_count": 6,
     "metadata": {},
     "output_type": "execute_result"
    }
   ],
   "source": [
    "doc = nlp(u'\"Management is doing the right things; leadership is doing the right things.\" - Peter Drucker')\n",
    "\n",
    "doc.text"
   ]
  },
  {
   "cell_type": "code",
   "execution_count": 7,
   "metadata": {},
   "outputs": [
    {
     "name": "stdout",
     "output_type": "stream",
     "text": [
      "\"Management is doing the right things; leadership is doing the right things.\"\n",
      "\n",
      "\n",
      "- Peter Drucker\n",
      "\n",
      "\n"
     ]
    }
   ],
   "source": [
    "# Here it only detect 2 sentences\n",
    "for sent in doc.sents:\n",
    "    print(sent)\n",
    "    print('\\n')"
   ]
  },
  {
   "cell_type": "code",
   "execution_count": 8,
   "metadata": {},
   "outputs": [
    {
     "data": {
      "text/plain": [
       "\"Management is doing the right things; leadership is doing the right things.\" - Peter"
      ]
     },
     "execution_count": 8,
     "metadata": {},
     "output_type": "execute_result"
    }
   ],
   "source": [
    "# From start up until the last token\n",
    "doc[:-1]"
   ]
  },
  {
   "cell_type": "code",
   "execution_count": 22,
   "metadata": {},
   "outputs": [
    {
     "name": "stdout",
     "output_type": "stream",
     "text": [
      "\" | 0\n",
      "Management | 1\n",
      "is | 2\n",
      "doing | 3\n",
      "the | 4\n",
      "right | 5\n",
      "things | 6\n",
      "; | 7\n",
      "leadership | 8\n",
      "is | 9\n",
      "doing | 10\n",
      "the | 11\n",
      "right | 12\n",
      "things | 13\n",
      ". | 14\n",
      "\" | 15\n",
      "- | 16\n",
      "Peter | 17\n",
      "Drucker | 18\n"
     ]
    }
   ],
   "source": [
    "# Each token has its own Index\n",
    "def index_check(doc):\n",
    "    for token in doc:\n",
    "        print(f\"{token} | {token.i}\")\n",
    "index_check(doc)"
   ]
  },
  {
   "cell_type": "markdown",
   "metadata": {},
   "source": [
    "### Add our Own Rule & Add it to the NLP Pipeline"
   ]
  },
  {
   "cell_type": "code",
   "execution_count": 23,
   "metadata": {},
   "outputs": [],
   "source": [
    "# ADD A SEGMENTATION RULE\n",
    "# Basically what happened here is, after ';' is gonna be a new sentence\n",
    "def set_custom_boundaries(doc):\n",
    "    for token in doc[:-1]:\n",
    "        if token.text == ';':\n",
    "            doc[token.i+1].is_sent_start = True\n",
    "    return doc"
   ]
  },
  {
   "cell_type": "code",
   "execution_count": 24,
   "metadata": {},
   "outputs": [
    {
     "data": {
      "text/plain": [
       "['tagger', 'set_custom_boundaries', 'parser', 'ner']"
      ]
     },
     "execution_count": 24,
     "metadata": {},
     "output_type": "execute_result"
    }
   ],
   "source": [
    "# Add Our Rule to the NLP Pipeline / Stages\n",
    "nlp.add_pipe(set_custom_boundaries, before='parser')\n",
    "\n",
    "nlp.pipe_names"
   ]
  },
  {
   "cell_type": "code",
   "execution_count": 25,
   "metadata": {},
   "outputs": [],
   "source": [
    "doc4 = nlp(u'\"Management is doing the right things; leadership is doing the right things.\" - Peter Drucker')"
   ]
  },
  {
   "cell_type": "code",
   "execution_count": 26,
   "metadata": {},
   "outputs": [
    {
     "name": "stdout",
     "output_type": "stream",
     "text": [
      "\"Management is doing the right things;\n",
      "leadership is doing the right things.\n",
      "\" - Peter Drucker\n"
     ]
    }
   ],
   "source": [
    "# Notice that after ';' Spacy Tagged that as a New Sentence\n",
    "for sent in doc4.sents:\n",
    "    print(sent)"
   ]
  },
  {
   "cell_type": "markdown",
   "metadata": {},
   "source": [
    "### Changing Default Segmentation Rules"
   ]
  },
  {
   "cell_type": "code",
   "execution_count": 27,
   "metadata": {},
   "outputs": [],
   "source": [
    "# Reloading Original Spacy To Undo our Own Rule \n",
    "nlp = spacy.load('en_core_web_sm')"
   ]
  },
  {
   "cell_type": "code",
   "execution_count": 28,
   "metadata": {},
   "outputs": [
    {
     "name": "stdout",
     "output_type": "stream",
     "text": [
      "This is a sentence. This is another. \n",
      "\n",
      "This is a \n",
      "third sentence\n"
     ]
    }
   ],
   "source": [
    "mystring = u\"This is a sentence. This is another. \\n\\nThis is a \\nthird sentence\"\n",
    "\n",
    "print(mystring)\n",
    "# This is a Poetry Case Study Example. In Poetry you want One Line to be detected as one sentence, not a full stop (.)"
   ]
  },
  {
   "cell_type": "code",
   "execution_count": 29,
   "metadata": {},
   "outputs": [
    {
     "name": "stdout",
     "output_type": "stream",
     "text": [
      "This is a sentence.\n",
      "This is another. \n",
      "\n",
      "\n",
      "This is a \n",
      "third sentence\n"
     ]
    }
   ],
   "source": [
    "doc = nlp(mystring)\n",
    "\n",
    "# Here spacy seperate each sentence by full stop\n",
    "for sentence in doc.sents:\n",
    "    print(sentence)"
   ]
  },
  {
   "cell_type": "code",
   "execution_count": 30,
   "metadata": {},
   "outputs": [],
   "source": [
    "from spacy.pipeline import SentenceSegmenter"
   ]
  },
  {
   "cell_type": "code",
   "execution_count": 31,
   "metadata": {},
   "outputs": [],
   "source": [
    "# * Need to Revisit this Function *\n",
    "def split_on_newlines(doc):\n",
    "    start = 0\n",
    "    seen_newline = False\n",
    "\n",
    "    for word in doc:\n",
    "        if seen_newline:\n",
    "            yield doc[start:word.i]     # Generate the Word from Start to the Current token\n",
    "            start = word.i\n",
    "            seen_newline = False\n",
    "        elif word.text.startswith('\\n'):\n",
    "            seen_newline = True\n",
    "    \n",
    "    yield doc[start:]"
   ]
  },
  {
   "cell_type": "code",
   "execution_count": 32,
   "metadata": {},
   "outputs": [],
   "source": [
    "sbd = SentenceSegmenter(nlp.vocab, strategy=split_on_newlines)\n",
    "\n",
    "nlp.add_pipe(sbd)"
   ]
  },
  {
   "cell_type": "code",
   "execution_count": 33,
   "metadata": {},
   "outputs": [
    {
     "name": "stdout",
     "output_type": "stream",
     "text": [
      "This is a sentence. This is another. \n",
      "\n",
      "\n",
      "This is a \n",
      "\n",
      "third sentence\n"
     ]
    }
   ],
   "source": [
    "doc = nlp(mystring)\n",
    "\n",
    "# Here Notice that Spacy Identify new Sentences as new lines\n",
    "for sentence in doc.sents:\n",
    "    print(sentence)"
   ]
  }
 ],
 "metadata": {
  "kernelspec": {
   "display_name": "nlp_course",
   "language": "python",
   "name": "python3"
  },
  "language_info": {
   "codemirror_mode": {
    "name": "ipython",
    "version": 3
   },
   "file_extension": ".py",
   "mimetype": "text/x-python",
   "name": "python",
   "nbconvert_exporter": "python",
   "pygments_lexer": "ipython3",
   "version": "3.7.16"
  }
 },
 "nbformat": 4,
 "nbformat_minor": 2
}
