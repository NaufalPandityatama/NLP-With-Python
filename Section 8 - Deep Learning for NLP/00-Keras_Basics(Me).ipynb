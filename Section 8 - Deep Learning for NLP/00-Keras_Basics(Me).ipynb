{
 "cells": [
  {
   "cell_type": "code",
   "execution_count": 30,
   "metadata": {},
   "outputs": [],
   "source": [
    "import numpy as np"
   ]
  },
  {
   "cell_type": "code",
   "execution_count": 31,
   "metadata": {},
   "outputs": [],
   "source": [
    "from sklearn.datasets import load_iris\n",
    "\n",
    "iris = load_iris()"
   ]
  },
  {
   "cell_type": "code",
   "execution_count": 32,
   "metadata": {},
   "outputs": [
    {
     "data": {
      "text/plain": [
       "sklearn.utils.Bunch"
      ]
     },
     "execution_count": 32,
     "metadata": {},
     "output_type": "execute_result"
    }
   ],
   "source": [
    "type(iris)"
   ]
  },
  {
   "cell_type": "code",
   "execution_count": null,
   "metadata": {},
   "outputs": [],
   "source": [
    "#print(iris.DESCR)"
   ]
  },
  {
   "cell_type": "code",
   "execution_count": 34,
   "metadata": {},
   "outputs": [],
   "source": [
    "X = iris.data\n",
    "#X"
   ]
  },
  {
   "cell_type": "code",
   "execution_count": 35,
   "metadata": {},
   "outputs": [],
   "source": [
    "y = iris.target\n",
    "#y"
   ]
  },
  {
   "cell_type": "markdown",
   "metadata": {},
   "source": [
    "### Pre-Processing"
   ]
  },
  {
   "cell_type": "markdown",
   "metadata": {},
   "source": [
    "#### One Hot Encoding <br>\n",
    "class 0 --> [1,0,0] <br>\n",
    "class 1 --> [0,1,0] <br>\n",
    "class 2 --> [0,0,1] <br>"
   ]
  },
  {
   "cell_type": "code",
   "execution_count": 36,
   "metadata": {},
   "outputs": [],
   "source": [
    "from keras.utils import to_categorical"
   ]
  },
  {
   "cell_type": "code",
   "execution_count": 37,
   "metadata": {},
   "outputs": [],
   "source": [
    "y = to_categorical(y)"
   ]
  },
  {
   "cell_type": "code",
   "execution_count": 38,
   "metadata": {},
   "outputs": [
    {
     "data": {
      "text/plain": [
       "(150, 3)"
      ]
     },
     "execution_count": 38,
     "metadata": {},
     "output_type": "execute_result"
    }
   ],
   "source": [
    "y.shape"
   ]
  },
  {
   "cell_type": "code",
   "execution_count": 39,
   "metadata": {},
   "outputs": [],
   "source": [
    "# y"
   ]
  },
  {
   "cell_type": "markdown",
   "metadata": {},
   "source": [
    "#### Splitting Data"
   ]
  },
  {
   "cell_type": "code",
   "execution_count": 40,
   "metadata": {},
   "outputs": [],
   "source": [
    "from sklearn.model_selection import train_test_split"
   ]
  },
  {
   "cell_type": "code",
   "execution_count": 41,
   "metadata": {},
   "outputs": [],
   "source": [
    "X_train, X_test, y_train, y_test = train_test_split(X, y,test_size = 0.33, random_state = 42)"
   ]
  },
  {
   "cell_type": "code",
   "execution_count": null,
   "metadata": {},
   "outputs": [],
   "source": [
    "#X_train"
   ]
  },
  {
   "cell_type": "markdown",
   "metadata": {},
   "source": [
    "#### Standardize"
   ]
  },
  {
   "cell_type": "code",
   "execution_count": 43,
   "metadata": {},
   "outputs": [],
   "source": [
    "from sklearn.preprocessing import MinMaxScaler"
   ]
  },
  {
   "cell_type": "code",
   "execution_count": 44,
   "metadata": {},
   "outputs": [
    {
     "data": {
      "text/plain": [
       "array([0.25, 0.5 , 0.75, 1.  ])"
      ]
     },
     "execution_count": 44,
     "metadata": {},
     "output_type": "execute_result"
    }
   ],
   "source": [
    "# EXAMPLE\n",
    "np.array([5,10,15,20]) / 20"
   ]
  },
  {
   "cell_type": "code",
   "execution_count": 45,
   "metadata": {},
   "outputs": [],
   "source": [
    "scaler_object = MinMaxScaler()"
   ]
  },
  {
   "cell_type": "code",
   "execution_count": 46,
   "metadata": {},
   "outputs": [
    {
     "data": {
      "text/plain": [
       "MinMaxScaler()"
      ]
     },
     "execution_count": 46,
     "metadata": {},
     "output_type": "execute_result"
    }
   ],
   "source": [
    "scaler_object.fit(X_train)"
   ]
  },
  {
   "cell_type": "code",
   "execution_count": 47,
   "metadata": {},
   "outputs": [],
   "source": [
    "scaled_X_train = scaler_object.transform(X_train)\n",
    "scaled_X_test = scaler_object.transform(X_test)"
   ]
  },
  {
   "cell_type": "code",
   "execution_count": null,
   "metadata": {},
   "outputs": [],
   "source": [
    "# All Values are now between 0 and 1\n",
    "#scaled_X_train"
   ]
  },
  {
   "cell_type": "markdown",
   "metadata": {},
   "source": [
    "### Building the Network"
   ]
  },
  {
   "cell_type": "code",
   "execution_count": 50,
   "metadata": {},
   "outputs": [],
   "source": [
    "from keras.models import Sequential\n",
    "from keras.layers import Dense"
   ]
  },
  {
   "cell_type": "code",
   "execution_count": 51,
   "metadata": {},
   "outputs": [],
   "source": [
    "model = Sequential()\n",
    "\n",
    "# First Layer -> 8 (8 Neurons), input_dim = 4 (Expecting 4 Features), (ReLU as Activation Function)\n",
    "model.add(Dense(8, input_dim = 4, activation = 'relu'))\n",
    "\n",
    "# Second Layer \n",
    "model.add(Dense(8, input_dim = 4, activation = 'relu'))\n",
    "\n",
    "# Output Layer -> 3 (Expected 3 Output), (Softmax as Activation Function (see Notebook))\n",
    "model.add(Dense(3, activation = 'softmax'))     # [0.2, 0.3, 0.5]\n",
    "\n",
    "\n",
    "model.compile(loss = 'categorical_crossentropy', optimizer = 'adam', metrics = ['accuracy'])"
   ]
  },
  {
   "cell_type": "code",
   "execution_count": 52,
   "metadata": {},
   "outputs": [
    {
     "name": "stdout",
     "output_type": "stream",
     "text": [
      "Model: \"sequential\"\n",
      "_________________________________________________________________\n",
      " Layer (type)                Output Shape              Param #   \n",
      "=================================================================\n",
      " dense (Dense)               (None, 8)                 40        \n",
      "                                                                 \n",
      " dense_1 (Dense)             (None, 8)                 72        \n",
      "                                                                 \n",
      " dense_2 (Dense)             (None, 3)                 27        \n",
      "                                                                 \n",
      "=================================================================\n",
      "Total params: 139\n",
      "Trainable params: 139\n",
      "Non-trainable params: 0\n",
      "_________________________________________________________________\n"
     ]
    }
   ],
   "source": [
    "model.summary()"
   ]
  },
  {
   "cell_type": "code",
   "execution_count": 53,
   "metadata": {},
   "outputs": [
    {
     "name": "stdout",
     "output_type": "stream",
     "text": [
      "Epoch 1/150\n",
      "4/4 - 1s - loss: 1.2134 - accuracy: 0.3500 - 584ms/epoch - 146ms/step\n",
      "Epoch 2/150\n",
      "4/4 - 0s - loss: 1.2008 - accuracy: 0.3500 - 5ms/epoch - 1ms/step\n",
      "Epoch 3/150\n",
      "4/4 - 0s - loss: 1.1901 - accuracy: 0.3500 - 7ms/epoch - 2ms/step\n",
      "Epoch 4/150\n",
      "4/4 - 0s - loss: 1.1784 - accuracy: 0.3700 - 7ms/epoch - 2ms/step\n",
      "Epoch 5/150\n",
      "4/4 - 0s - loss: 1.1681 - accuracy: 0.3800 - 6ms/epoch - 2ms/step\n",
      "Epoch 6/150\n",
      "4/4 - 0s - loss: 1.1570 - accuracy: 0.3900 - 6ms/epoch - 2ms/step\n",
      "Epoch 7/150\n",
      "4/4 - 0s - loss: 1.1463 - accuracy: 0.4100 - 6ms/epoch - 1ms/step\n",
      "Epoch 8/150\n",
      "4/4 - 0s - loss: 1.1382 - accuracy: 0.4300 - 6ms/epoch - 2ms/step\n",
      "Epoch 9/150\n",
      "4/4 - 0s - loss: 1.1291 - accuracy: 0.4900 - 6ms/epoch - 2ms/step\n",
      "Epoch 10/150\n",
      "4/4 - 0s - loss: 1.1220 - accuracy: 0.5200 - 7ms/epoch - 2ms/step\n",
      "Epoch 11/150\n",
      "4/4 - 0s - loss: 1.1164 - accuracy: 0.5300 - 6ms/epoch - 2ms/step\n",
      "Epoch 12/150\n",
      "4/4 - 0s - loss: 1.1102 - accuracy: 0.5400 - 7ms/epoch - 2ms/step\n",
      "Epoch 13/150\n",
      "4/4 - 0s - loss: 1.1049 - accuracy: 0.5300 - 7ms/epoch - 2ms/step\n",
      "Epoch 14/150\n",
      "4/4 - 0s - loss: 1.0990 - accuracy: 0.5200 - 7ms/epoch - 2ms/step\n",
      "Epoch 15/150\n",
      "4/4 - 0s - loss: 1.0939 - accuracy: 0.4900 - 6ms/epoch - 2ms/step\n",
      "Epoch 16/150\n",
      "4/4 - 0s - loss: 1.0888 - accuracy: 0.4800 - 6ms/epoch - 2ms/step\n",
      "Epoch 17/150\n",
      "4/4 - 0s - loss: 1.0837 - accuracy: 0.4800 - 7ms/epoch - 2ms/step\n",
      "Epoch 18/150\n",
      "4/4 - 0s - loss: 1.0783 - accuracy: 0.4900 - 7ms/epoch - 2ms/step\n",
      "Epoch 19/150\n",
      "4/4 - 0s - loss: 1.0740 - accuracy: 0.5300 - 7ms/epoch - 2ms/step\n",
      "Epoch 20/150\n",
      "4/4 - 0s - loss: 1.0699 - accuracy: 0.5600 - 6ms/epoch - 2ms/step\n",
      "Epoch 21/150\n",
      "4/4 - 0s - loss: 1.0664 - accuracy: 0.6000 - 5ms/epoch - 1ms/step\n",
      "Epoch 22/150\n",
      "4/4 - 0s - loss: 1.0633 - accuracy: 0.6200 - 7ms/epoch - 2ms/step\n",
      "Epoch 23/150\n",
      "4/4 - 0s - loss: 1.0603 - accuracy: 0.6300 - 7ms/epoch - 2ms/step\n",
      "Epoch 24/150\n",
      "4/4 - 0s - loss: 1.0575 - accuracy: 0.6400 - 7ms/epoch - 2ms/step\n",
      "Epoch 25/150\n",
      "4/4 - 0s - loss: 1.0546 - accuracy: 0.6600 - 6ms/epoch - 1ms/step\n",
      "Epoch 26/150\n",
      "4/4 - 0s - loss: 1.0516 - accuracy: 0.6600 - 6ms/epoch - 1ms/step\n",
      "Epoch 27/150\n",
      "4/4 - 0s - loss: 1.0486 - accuracy: 0.6600 - 6ms/epoch - 2ms/step\n",
      "Epoch 28/150\n",
      "4/4 - 0s - loss: 1.0457 - accuracy: 0.6600 - 7ms/epoch - 2ms/step\n",
      "Epoch 29/150\n",
      "4/4 - 0s - loss: 1.0425 - accuracy: 0.6600 - 7ms/epoch - 2ms/step\n",
      "Epoch 30/150\n",
      "4/4 - 0s - loss: 1.0396 - accuracy: 0.6600 - 6ms/epoch - 2ms/step\n",
      "Epoch 31/150\n",
      "4/4 - 0s - loss: 1.0365 - accuracy: 0.6600 - 7ms/epoch - 2ms/step\n",
      "Epoch 32/150\n",
      "4/4 - 0s - loss: 1.0333 - accuracy: 0.6600 - 6ms/epoch - 2ms/step\n",
      "Epoch 33/150\n",
      "4/4 - 0s - loss: 1.0299 - accuracy: 0.6600 - 12ms/epoch - 3ms/step\n",
      "Epoch 34/150\n",
      "4/4 - 0s - loss: 1.0266 - accuracy: 0.6600 - 7ms/epoch - 2ms/step\n",
      "Epoch 35/150\n",
      "4/4 - 0s - loss: 1.0234 - accuracy: 0.6600 - 8ms/epoch - 2ms/step\n",
      "Epoch 36/150\n",
      "4/4 - 0s - loss: 1.0199 - accuracy: 0.6600 - 6ms/epoch - 2ms/step\n",
      "Epoch 37/150\n",
      "4/4 - 0s - loss: 1.0162 - accuracy: 0.6600 - 8ms/epoch - 2ms/step\n",
      "Epoch 38/150\n",
      "4/4 - 0s - loss: 1.0126 - accuracy: 0.6600 - 6ms/epoch - 2ms/step\n",
      "Epoch 39/150\n",
      "4/4 - 0s - loss: 1.0088 - accuracy: 0.6600 - 7ms/epoch - 2ms/step\n",
      "Epoch 40/150\n",
      "4/4 - 0s - loss: 1.0051 - accuracy: 0.6600 - 6ms/epoch - 2ms/step\n",
      "Epoch 41/150\n",
      "4/4 - 0s - loss: 1.0014 - accuracy: 0.6600 - 6ms/epoch - 2ms/step\n",
      "Epoch 42/150\n",
      "4/4 - 0s - loss: 0.9974 - accuracy: 0.6600 - 6ms/epoch - 2ms/step\n",
      "Epoch 43/150\n",
      "4/4 - 0s - loss: 0.9934 - accuracy: 0.6600 - 6ms/epoch - 2ms/step\n",
      "Epoch 44/150\n",
      "4/4 - 0s - loss: 0.9892 - accuracy: 0.6600 - 6ms/epoch - 2ms/step\n",
      "Epoch 45/150\n",
      "4/4 - 0s - loss: 0.9849 - accuracy: 0.6600 - 7ms/epoch - 2ms/step\n",
      "Epoch 46/150\n",
      "4/4 - 0s - loss: 0.9803 - accuracy: 0.6600 - 6ms/epoch - 2ms/step\n",
      "Epoch 47/150\n",
      "4/4 - 0s - loss: 0.9755 - accuracy: 0.6600 - 7ms/epoch - 2ms/step\n",
      "Epoch 48/150\n",
      "4/4 - 0s - loss: 0.9707 - accuracy: 0.6600 - 6ms/epoch - 2ms/step\n",
      "Epoch 49/150\n",
      "4/4 - 0s - loss: 0.9660 - accuracy: 0.6600 - 6ms/epoch - 2ms/step\n",
      "Epoch 50/150\n",
      "4/4 - 0s - loss: 0.9613 - accuracy: 0.6600 - 6ms/epoch - 2ms/step\n",
      "Epoch 51/150\n",
      "4/4 - 0s - loss: 0.9562 - accuracy: 0.6600 - 6ms/epoch - 2ms/step\n",
      "Epoch 52/150\n",
      "4/4 - 0s - loss: 0.9508 - accuracy: 0.6600 - 6ms/epoch - 2ms/step\n",
      "Epoch 53/150\n",
      "4/4 - 0s - loss: 0.9455 - accuracy: 0.6600 - 10ms/epoch - 3ms/step\n",
      "Epoch 54/150\n",
      "4/4 - 0s - loss: 0.9402 - accuracy: 0.6600 - 6ms/epoch - 2ms/step\n",
      "Epoch 55/150\n",
      "4/4 - 0s - loss: 0.9346 - accuracy: 0.6600 - 6ms/epoch - 2ms/step\n",
      "Epoch 56/150\n",
      "4/4 - 0s - loss: 0.9293 - accuracy: 0.6600 - 6ms/epoch - 1ms/step\n",
      "Epoch 57/150\n",
      "4/4 - 0s - loss: 0.9233 - accuracy: 0.6600 - 6ms/epoch - 2ms/step\n",
      "Epoch 58/150\n",
      "4/4 - 0s - loss: 0.9174 - accuracy: 0.6600 - 6ms/epoch - 2ms/step\n",
      "Epoch 59/150\n",
      "4/4 - 0s - loss: 0.9114 - accuracy: 0.6600 - 6ms/epoch - 2ms/step\n",
      "Epoch 60/150\n",
      "4/4 - 0s - loss: 0.9051 - accuracy: 0.6600 - 6ms/epoch - 2ms/step\n",
      "Epoch 61/150\n",
      "4/4 - 0s - loss: 0.8988 - accuracy: 0.6600 - 6ms/epoch - 2ms/step\n",
      "Epoch 62/150\n",
      "4/4 - 0s - loss: 0.8923 - accuracy: 0.6600 - 6ms/epoch - 1ms/step\n",
      "Epoch 63/150\n",
      "4/4 - 0s - loss: 0.8861 - accuracy: 0.6600 - 7ms/epoch - 2ms/step\n",
      "Epoch 64/150\n",
      "4/4 - 0s - loss: 0.8797 - accuracy: 0.6600 - 6ms/epoch - 1ms/step\n",
      "Epoch 65/150\n",
      "4/4 - 0s - loss: 0.8731 - accuracy: 0.6800 - 6ms/epoch - 2ms/step\n",
      "Epoch 66/150\n",
      "4/4 - 0s - loss: 0.8662 - accuracy: 0.7600 - 6ms/epoch - 2ms/step\n",
      "Epoch 67/150\n",
      "4/4 - 0s - loss: 0.8595 - accuracy: 0.8200 - 6ms/epoch - 1ms/step\n",
      "Epoch 68/150\n",
      "4/4 - 0s - loss: 0.8525 - accuracy: 0.8400 - 6ms/epoch - 2ms/step\n",
      "Epoch 69/150\n",
      "4/4 - 0s - loss: 0.8456 - accuracy: 0.8800 - 6ms/epoch - 2ms/step\n",
      "Epoch 70/150\n",
      "4/4 - 0s - loss: 0.8384 - accuracy: 0.8800 - 5ms/epoch - 1ms/step\n",
      "Epoch 71/150\n",
      "4/4 - 0s - loss: 0.8310 - accuracy: 0.8800 - 5ms/epoch - 1ms/step\n",
      "Epoch 72/150\n",
      "4/4 - 0s - loss: 0.8237 - accuracy: 0.9000 - 6ms/epoch - 2ms/step\n",
      "Epoch 73/150\n",
      "4/4 - 0s - loss: 0.8170 - accuracy: 0.8800 - 7ms/epoch - 2ms/step\n",
      "Epoch 74/150\n",
      "4/4 - 0s - loss: 0.8107 - accuracy: 0.8100 - 7ms/epoch - 2ms/step\n",
      "Epoch 75/150\n",
      "4/4 - 0s - loss: 0.8037 - accuracy: 0.8000 - 6ms/epoch - 2ms/step\n",
      "Epoch 76/150\n",
      "4/4 - 0s - loss: 0.7966 - accuracy: 0.8000 - 6ms/epoch - 2ms/step\n",
      "Epoch 77/150\n",
      "4/4 - 0s - loss: 0.7886 - accuracy: 0.8100 - 6ms/epoch - 2ms/step\n",
      "Epoch 78/150\n",
      "4/4 - 0s - loss: 0.7812 - accuracy: 0.8300 - 6ms/epoch - 2ms/step\n",
      "Epoch 79/150\n",
      "4/4 - 0s - loss: 0.7743 - accuracy: 0.8500 - 5ms/epoch - 1ms/step\n",
      "Epoch 80/150\n",
      "4/4 - 0s - loss: 0.7678 - accuracy: 0.8700 - 5ms/epoch - 1ms/step\n",
      "Epoch 81/150\n",
      "4/4 - 0s - loss: 0.7602 - accuracy: 0.8600 - 6ms/epoch - 2ms/step\n",
      "Epoch 82/150\n",
      "4/4 - 0s - loss: 0.7527 - accuracy: 0.8600 - 6ms/epoch - 2ms/step\n",
      "Epoch 83/150\n",
      "4/4 - 0s - loss: 0.7447 - accuracy: 0.8500 - 6ms/epoch - 2ms/step\n",
      "Epoch 84/150\n",
      "4/4 - 0s - loss: 0.7367 - accuracy: 0.8000 - 8ms/epoch - 2ms/step\n",
      "Epoch 85/150\n",
      "4/4 - 0s - loss: 0.7295 - accuracy: 0.7400 - 12ms/epoch - 3ms/step\n",
      "Epoch 86/150\n",
      "4/4 - 0s - loss: 0.7235 - accuracy: 0.6900 - 11ms/epoch - 3ms/step\n",
      "Epoch 87/150\n",
      "4/4 - 0s - loss: 0.7163 - accuracy: 0.6800 - 9ms/epoch - 2ms/step\n",
      "Epoch 88/150\n",
      "4/4 - 0s - loss: 0.7091 - accuracy: 0.7100 - 6ms/epoch - 2ms/step\n",
      "Epoch 89/150\n",
      "4/4 - 0s - loss: 0.7017 - accuracy: 0.7200 - 10ms/epoch - 3ms/step\n",
      "Epoch 90/150\n",
      "4/4 - 0s - loss: 0.6951 - accuracy: 0.7100 - 7ms/epoch - 2ms/step\n",
      "Epoch 91/150\n",
      "4/4 - 0s - loss: 0.6885 - accuracy: 0.7200 - 6ms/epoch - 2ms/step\n",
      "Epoch 92/150\n",
      "4/4 - 0s - loss: 0.6819 - accuracy: 0.7200 - 6ms/epoch - 2ms/step\n",
      "Epoch 93/150\n",
      "4/4 - 0s - loss: 0.6758 - accuracy: 0.6900 - 6ms/epoch - 2ms/step\n",
      "Epoch 94/150\n",
      "4/4 - 0s - loss: 0.6692 - accuracy: 0.6900 - 7ms/epoch - 2ms/step\n",
      "Epoch 95/150\n",
      "4/4 - 0s - loss: 0.6629 - accuracy: 0.6900 - 7ms/epoch - 2ms/step\n",
      "Epoch 96/150\n",
      "4/4 - 0s - loss: 0.6569 - accuracy: 0.6900 - 6ms/epoch - 2ms/step\n",
      "Epoch 97/150\n",
      "4/4 - 0s - loss: 0.6509 - accuracy: 0.6900 - 7ms/epoch - 2ms/step\n",
      "Epoch 98/150\n",
      "4/4 - 0s - loss: 0.6456 - accuracy: 0.6900 - 6ms/epoch - 2ms/step\n",
      "Epoch 99/150\n",
      "4/4 - 0s - loss: 0.6398 - accuracy: 0.6900 - 6ms/epoch - 2ms/step\n",
      "Epoch 100/150\n",
      "4/4 - 0s - loss: 0.6339 - accuracy: 0.7200 - 6ms/epoch - 2ms/step\n",
      "Epoch 101/150\n",
      "4/4 - 0s - loss: 0.6283 - accuracy: 0.7400 - 5ms/epoch - 1ms/step\n",
      "Epoch 102/150\n",
      "4/4 - 0s - loss: 0.6234 - accuracy: 0.7800 - 6ms/epoch - 2ms/step\n",
      "Epoch 103/150\n",
      "4/4 - 0s - loss: 0.6179 - accuracy: 0.7800 - 7ms/epoch - 2ms/step\n",
      "Epoch 104/150\n",
      "4/4 - 0s - loss: 0.6129 - accuracy: 0.7400 - 7ms/epoch - 2ms/step\n",
      "Epoch 105/150\n",
      "4/4 - 0s - loss: 0.6079 - accuracy: 0.7300 - 6ms/epoch - 1ms/step\n",
      "Epoch 106/150\n",
      "4/4 - 0s - loss: 0.6029 - accuracy: 0.7300 - 8ms/epoch - 2ms/step\n",
      "Epoch 107/150\n",
      "4/4 - 0s - loss: 0.5978 - accuracy: 0.7500 - 7ms/epoch - 2ms/step\n",
      "Epoch 108/150\n",
      "4/4 - 0s - loss: 0.5927 - accuracy: 0.7800 - 7ms/epoch - 2ms/step\n",
      "Epoch 109/150\n",
      "4/4 - 0s - loss: 0.5884 - accuracy: 0.7800 - 7ms/epoch - 2ms/step\n",
      "Epoch 110/150\n",
      "4/4 - 0s - loss: 0.5839 - accuracy: 0.8100 - 7ms/epoch - 2ms/step\n",
      "Epoch 111/150\n",
      "4/4 - 0s - loss: 0.5797 - accuracy: 0.8400 - 6ms/epoch - 2ms/step\n",
      "Epoch 112/150\n",
      "4/4 - 0s - loss: 0.5752 - accuracy: 0.8500 - 6ms/epoch - 2ms/step\n",
      "Epoch 113/150\n",
      "4/4 - 0s - loss: 0.5706 - accuracy: 0.8500 - 7ms/epoch - 2ms/step\n",
      "Epoch 114/150\n",
      "4/4 - 0s - loss: 0.5659 - accuracy: 0.8300 - 5ms/epoch - 1ms/step\n",
      "Epoch 115/150\n",
      "4/4 - 0s - loss: 0.5613 - accuracy: 0.8200 - 7ms/epoch - 2ms/step\n",
      "Epoch 116/150\n",
      "4/4 - 0s - loss: 0.5572 - accuracy: 0.8200 - 7ms/epoch - 2ms/step\n",
      "Epoch 117/150\n",
      "4/4 - 0s - loss: 0.5530 - accuracy: 0.8500 - 6ms/epoch - 2ms/step\n",
      "Epoch 118/150\n",
      "4/4 - 0s - loss: 0.5491 - accuracy: 0.8700 - 8ms/epoch - 2ms/step\n",
      "Epoch 119/150\n",
      "4/4 - 0s - loss: 0.5455 - accuracy: 0.8800 - 6ms/epoch - 1ms/step\n",
      "Epoch 120/150\n",
      "4/4 - 0s - loss: 0.5415 - accuracy: 0.8700 - 5ms/epoch - 1ms/step\n",
      "Epoch 121/150\n",
      "4/4 - 0s - loss: 0.5373 - accuracy: 0.8200 - 5ms/epoch - 1ms/step\n",
      "Epoch 122/150\n",
      "4/4 - 0s - loss: 0.5338 - accuracy: 0.8200 - 7ms/epoch - 2ms/step\n",
      "Epoch 123/150\n",
      "4/4 - 0s - loss: 0.5303 - accuracy: 0.8200 - 6ms/epoch - 2ms/step\n",
      "Epoch 124/150\n",
      "4/4 - 0s - loss: 0.5262 - accuracy: 0.8200 - 5ms/epoch - 1ms/step\n",
      "Epoch 125/150\n",
      "4/4 - 0s - loss: 0.5224 - accuracy: 0.8300 - 6ms/epoch - 2ms/step\n",
      "Epoch 126/150\n",
      "4/4 - 0s - loss: 0.5193 - accuracy: 0.8800 - 6ms/epoch - 2ms/step\n",
      "Epoch 127/150\n",
      "4/4 - 0s - loss: 0.5164 - accuracy: 0.9000 - 7ms/epoch - 2ms/step\n",
      "Epoch 128/150\n",
      "4/4 - 0s - loss: 0.5130 - accuracy: 0.9000 - 8ms/epoch - 2ms/step\n",
      "Epoch 129/150\n",
      "4/4 - 0s - loss: 0.5097 - accuracy: 0.9000 - 16ms/epoch - 4ms/step\n",
      "Epoch 130/150\n",
      "4/4 - 0s - loss: 0.5058 - accuracy: 0.8900 - 11ms/epoch - 3ms/step\n",
      "Epoch 131/150\n",
      "4/4 - 0s - loss: 0.5022 - accuracy: 0.8800 - 9ms/epoch - 2ms/step\n",
      "Epoch 132/150\n",
      "4/4 - 0s - loss: 0.4993 - accuracy: 0.8600 - 7ms/epoch - 2ms/step\n",
      "Epoch 133/150\n",
      "4/4 - 0s - loss: 0.4964 - accuracy: 0.8600 - 6ms/epoch - 2ms/step\n",
      "Epoch 134/150\n",
      "4/4 - 0s - loss: 0.4933 - accuracy: 0.8600 - 6ms/epoch - 1ms/step\n",
      "Epoch 135/150\n",
      "4/4 - 0s - loss: 0.4902 - accuracy: 0.8800 - 5ms/epoch - 1ms/step\n",
      "Epoch 136/150\n",
      "4/4 - 0s - loss: 0.4870 - accuracy: 0.8900 - 9ms/epoch - 2ms/step\n",
      "Epoch 137/150\n",
      "4/4 - 0s - loss: 0.4840 - accuracy: 0.9000 - 7ms/epoch - 2ms/step\n",
      "Epoch 138/150\n",
      "4/4 - 0s - loss: 0.4817 - accuracy: 0.9100 - 6ms/epoch - 2ms/step\n",
      "Epoch 139/150\n",
      "4/4 - 0s - loss: 0.4791 - accuracy: 0.9200 - 6ms/epoch - 1ms/step\n",
      "Epoch 140/150\n",
      "4/4 - 0s - loss: 0.4762 - accuracy: 0.9200 - 7ms/epoch - 2ms/step\n",
      "Epoch 141/150\n",
      "4/4 - 0s - loss: 0.4730 - accuracy: 0.9200 - 6ms/epoch - 2ms/step\n",
      "Epoch 142/150\n",
      "4/4 - 0s - loss: 0.4703 - accuracy: 0.9100 - 6ms/epoch - 2ms/step\n",
      "Epoch 143/150\n",
      "4/4 - 0s - loss: 0.4673 - accuracy: 0.9100 - 6ms/epoch - 2ms/step\n",
      "Epoch 144/150\n",
      "4/4 - 0s - loss: 0.4645 - accuracy: 0.9100 - 6ms/epoch - 2ms/step\n",
      "Epoch 145/150\n",
      "4/4 - 0s - loss: 0.4618 - accuracy: 0.9200 - 7ms/epoch - 2ms/step\n",
      "Epoch 146/150\n",
      "4/4 - 0s - loss: 0.4594 - accuracy: 0.9200 - 7ms/epoch - 2ms/step\n",
      "Epoch 147/150\n",
      "4/4 - 0s - loss: 0.4566 - accuracy: 0.9200 - 6ms/epoch - 2ms/step\n",
      "Epoch 148/150\n",
      "4/4 - 0s - loss: 0.4541 - accuracy: 0.9200 - 4ms/epoch - 1ms/step\n",
      "Epoch 149/150\n",
      "4/4 - 0s - loss: 0.4511 - accuracy: 0.9200 - 7ms/epoch - 2ms/step\n",
      "Epoch 150/150\n",
      "4/4 - 0s - loss: 0.4488 - accuracy: 0.9200 - 6ms/epoch - 1ms/step\n"
     ]
    },
    {
     "data": {
      "text/plain": [
       "<keras.callbacks.History at 0x1adbcb7ffa0>"
      ]
     },
     "execution_count": 53,
     "metadata": {},
     "output_type": "execute_result"
    }
   ],
   "source": [
    "model.fit(scaled_X_train, y_train, epochs = 150, verbose = 2)\n",
    "\n",
    "# epocs -> running through the entire training data set\n",
    "# verbose -> how much information output do you want while running the network"
   ]
  },
  {
   "cell_type": "markdown",
   "metadata": {},
   "source": [
    "### Predicting our Test Data"
   ]
  },
  {
   "cell_type": "code",
   "execution_count": null,
   "metadata": {},
   "outputs": [],
   "source": [
    "model.predict(scaled_X_test)\n",
    "\n",
    "# Shows Probability of Belonging to Each Class"
   ]
  },
  {
   "cell_type": "code",
   "execution_count": 65,
   "metadata": {},
   "outputs": [
    {
     "name": "stdout",
     "output_type": "stream",
     "text": [
      "2/2 [==============================] - 0s 2ms/step\n"
     ]
    },
    {
     "data": {
      "text/plain": [
       "array([1, 0, 2, 1, 2, 0, 1, 2, 2, 1, 2, 0, 0, 0, 0, 1, 2, 1, 1, 2, 0, 2,\n",
       "       0, 2, 2, 2, 2, 2, 0, 0, 0, 0, 1, 0, 0, 2, 1, 0, 0, 0, 2, 1, 1, 0,\n",
       "       0, 1, 2, 2, 1, 2], dtype=int64)"
      ]
     },
     "execution_count": 65,
     "metadata": {},
     "output_type": "execute_result"
    }
   ],
   "source": [
    "# Original Code from Course - Error\n",
    "# model.predict_classes(scaled_X_test)\n",
    "\n",
    "# np.argmax(,axis=1)\n",
    "\n",
    "np.argmax(model.predict(scaled_X_test),axis=1)"
   ]
  },
  {
   "cell_type": "code",
   "execution_count": 66,
   "metadata": {},
   "outputs": [
    {
     "name": "stdout",
     "output_type": "stream",
     "text": [
      "2/2 [==============================] - 0s 2ms/step\n"
     ]
    }
   ],
   "source": [
    "# Original Code from Course - Error\n",
    "# predictions = model.predict_classes(scaled_X_test)\n",
    "\n",
    "predictions = np.argmax(model.predict(scaled_X_test),axis=1)"
   ]
  },
  {
   "cell_type": "code",
   "execution_count": 63,
   "metadata": {},
   "outputs": [
    {
     "data": {
      "text/plain": [
       "array([1, 0, 2, 1, 1, 0, 1, 2, 1, 1, 2, 0, 0, 0, 0, 1, 2, 1, 1, 2, 0, 2,\n",
       "       0, 2, 2, 2, 2, 2, 0, 0, 0, 0, 1, 0, 0, 2, 1, 0, 0, 0, 2, 1, 1, 0,\n",
       "       0, 1, 2, 2, 1, 2], dtype=int64)"
      ]
     },
     "execution_count": 63,
     "metadata": {},
     "output_type": "execute_result"
    }
   ],
   "source": [
    "y_test.argmax(axis = 1)"
   ]
  },
  {
   "cell_type": "code",
   "execution_count": 68,
   "metadata": {},
   "outputs": [],
   "source": [
    "from sklearn.metrics import confusion_matrix, classification_report, accuracy_score"
   ]
  },
  {
   "cell_type": "code",
   "execution_count": 69,
   "metadata": {},
   "outputs": [
    {
     "data": {
      "text/plain": [
       "array([[19,  0,  0],\n",
       "       [ 0, 13,  2],\n",
       "       [ 0,  0, 16]], dtype=int64)"
      ]
     },
     "execution_count": 69,
     "metadata": {},
     "output_type": "execute_result"
    }
   ],
   "source": [
    "confusion_matrix(y_test.argmax(axis = 1), predictions)"
   ]
  },
  {
   "cell_type": "code",
   "execution_count": 70,
   "metadata": {},
   "outputs": [
    {
     "name": "stdout",
     "output_type": "stream",
     "text": [
      "              precision    recall  f1-score   support\n",
      "\n",
      "           0       1.00      1.00      1.00        19\n",
      "           1       1.00      0.87      0.93        15\n",
      "           2       0.89      1.00      0.94        16\n",
      "\n",
      "    accuracy                           0.96        50\n",
      "   macro avg       0.96      0.96      0.96        50\n",
      "weighted avg       0.96      0.96      0.96        50\n",
      "\n"
     ]
    }
   ],
   "source": [
    "print(classification_report(y_test.argmax(axis = 1), predictions))"
   ]
  },
  {
   "cell_type": "code",
   "execution_count": 71,
   "metadata": {},
   "outputs": [
    {
     "data": {
      "text/plain": [
       "0.96"
      ]
     },
     "execution_count": 71,
     "metadata": {},
     "output_type": "execute_result"
    }
   ],
   "source": [
    "accuracy_score(y_test.argmax(axis = 1), predictions)"
   ]
  },
  {
   "cell_type": "markdown",
   "metadata": {},
   "source": [
    "### Saving Our Model !\n",
    "If running a super large model, especially for things like text generation that can take hours to run, we wanna be able to save and load our model."
   ]
  },
  {
   "cell_type": "code",
   "execution_count": 72,
   "metadata": {},
   "outputs": [],
   "source": [
    "model.save('myfirstmodel.h5')\n",
    "\n",
    "# Be Carefull about Overwriting your model with the same model name !"
   ]
  },
  {
   "cell_type": "code",
   "execution_count": 73,
   "metadata": {},
   "outputs": [],
   "source": [
    "from keras.models import load_model"
   ]
  },
  {
   "cell_type": "code",
   "execution_count": 74,
   "metadata": {},
   "outputs": [],
   "source": [
    "new_model = load_model('myfirstmodel.h5')"
   ]
  },
  {
   "cell_type": "code",
   "execution_count": 75,
   "metadata": {},
   "outputs": [
    {
     "name": "stdout",
     "output_type": "stream",
     "text": [
      "2/2 [==============================] - 0s 2ms/step\n"
     ]
    },
    {
     "data": {
      "text/plain": [
       "array([1, 0, 2, 1, 2, 0, 1, 2, 2, 1, 2, 0, 0, 0, 0, 1, 2, 1, 1, 2, 0, 2,\n",
       "       0, 2, 2, 2, 2, 2, 0, 0, 0, 0, 1, 0, 0, 2, 1, 0, 0, 0, 2, 1, 1, 0,\n",
       "       0, 1, 2, 2, 1, 2], dtype=int64)"
      ]
     },
     "execution_count": 75,
     "metadata": {},
     "output_type": "execute_result"
    }
   ],
   "source": [
    "np.argmax(new_model.predict(scaled_X_test),axis=1)"
   ]
  }
 ],
 "metadata": {
  "kernelspec": {
   "display_name": "nlp_course",
   "language": "python",
   "name": "python3"
  },
  "language_info": {
   "codemirror_mode": {
    "name": "ipython",
    "version": 3
   },
   "file_extension": ".py",
   "mimetype": "text/x-python",
   "name": "python",
   "nbconvert_exporter": "python",
   "pygments_lexer": "ipython3",
   "version": "3.9.12"
  }
 },
 "nbformat": 4,
 "nbformat_minor": 2
}
